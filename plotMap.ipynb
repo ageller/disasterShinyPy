{
 "cells": [
  {
   "cell_type": "markdown",
   "id": "3d8d7218",
   "metadata": {},
   "source": [
    "# Working with earthquake and volcano data in prep for creating a Shiny app\n",
    "\n",
    "Downloaded from Kaggle : \n",
    "- https://www.kaggle.com/datasets/thedevastator/uncovering-geophysical-insights-analyzing-usgs-e\n",
    "- https://www.kaggle.com/datasets/jessemostipak/volcano-eruptions\n",
    "\n",
    "Found though Google's dataset search : https://datasetsearch.research.google.com/\n",
    "\n",
    "And starting from this example : https://shinylive.io/py/examples/#map\n"
   ]
  },
  {
   "cell_type": "code",
   "execution_count": null,
   "id": "9b387111",
   "metadata": {},
   "outputs": [],
   "source": [
    "import pandas as pd\n",
    "import numpy as np\n",
    "import matplotlib.pyplot as plt\n",
    "from matplotlib import cm"
   ]
  },
  {
   "cell_type": "markdown",
   "id": "a11b0b5f",
   "metadata": {},
   "source": [
    "## Earthquakes\n",
    "\n",
    "https://www.kaggle.com/datasets/thedevastator/uncovering-geophysical-insights-analyzing-usgs-e"
   ]
  },
  {
   "cell_type": "code",
   "execution_count": null,
   "id": "8f93d97c",
   "metadata": {
    "scrolled": false
   },
   "outputs": [],
   "source": [
    "edf = pd.read_csv('data/earthquakes/usgs_main.csv')\n",
    "edf['time'] = pd.to_datetime(edf['time'])\n",
    "# limit to ~150 events for ipyleaflet\n",
    "#edf = edf.loc[edf['time'] >= pd.to_datetime('2022-09-01T00:00:00.00Z')]\n",
    "#edf = edf.loc[edf['mag'] > 5.7]\n",
    "#edf = edf.loc[edf['mag'] > 1]\n",
    "edf"
   ]
  },
  {
   "cell_type": "code",
   "execution_count": null,
   "id": "760202a3",
   "metadata": {},
   "outputs": [],
   "source": [
    "edf.columns"
   ]
  },
  {
   "cell_type": "code",
   "execution_count": null,
   "id": "51e81da5",
   "metadata": {},
   "outputs": [],
   "source": [
    "print(np.min(edf['time']), np.max(edf['time']))"
   ]
  },
  {
   "cell_type": "code",
   "execution_count": null,
   "id": "f0a44151",
   "metadata": {},
   "outputs": [],
   "source": [
    "# create some normalized values for scaling points on the maps\n",
    "edf['normDepth'] = np.nan_to_num((edf['depth'] - np.amin(edf['depth']))/(np.amax(edf['depth']) - np.amin(edf['depth'])), 0)#*30 + 0.1\n",
    "edf['normMag'] = np.nan_to_num(10.**(3*(edf['mag'] - np.amin(edf['mag']))/(np.amax(edf['mag']) - np.amin(edf['mag']))),0)"
   ]
  },
  {
   "cell_type": "code",
   "execution_count": null,
   "id": "4031bb42",
   "metadata": {
    "scrolled": false
   },
   "outputs": [],
   "source": [
    "f, ax = plt.subplots()\n",
    "_ = ax.hist(edf['normMag'], bins=50)"
   ]
  },
  {
   "cell_type": "code",
   "execution_count": null,
   "id": "de33b953",
   "metadata": {},
   "outputs": [],
   "source": [
    "f, ax = plt.subplots()\n",
    "ax.scatter(edf['normMag'], edf['normDepth'])"
   ]
  },
  {
   "cell_type": "markdown",
   "id": "198d31c8",
   "metadata": {},
   "source": [
    "## Volcanoes \n",
    "\n",
    "https://www.kaggle.com/datasets/jessemostipak/volcano-eruptions"
   ]
  },
  {
   "cell_type": "code",
   "execution_count": null,
   "id": "07d863f5",
   "metadata": {},
   "outputs": [],
   "source": [
    "vdf = pd.read_csv('data/volcanos/volcano.csv')\n",
    "# limit to ~150 rows for ipyleaflet\n",
    "vdf['last_eruption_year'] = vdf['last_eruption_year'].replace('Unknown', np.nan).astype('float')\n",
    "#vdf = vdf.loc[vdf['last_eruption_year'] >= 2000]\n",
    "vdf"
   ]
  },
  {
   "cell_type": "code",
   "execution_count": null,
   "id": "f145845e",
   "metadata": {},
   "outputs": [],
   "source": [
    "vdf.columns"
   ]
  },
  {
   "cell_type": "code",
   "execution_count": null,
   "id": "347c93fa",
   "metadata": {},
   "outputs": [],
   "source": [
    "# create some normalized values for scaling points on the maps\n",
    "vdf['normPop'] = (vdf['population_within_100_km'] - np.amin(vdf['population_within_100_km']))/(np.amax(vdf['population_within_100_km']) - np.amin(vdf['population_within_100_km']))#**3.#*300 + 1\n",
    "vdf['normYear'] = (vdf['last_eruption_year'] - np.amin(vdf['last_eruption_year']))/(np.amax(vdf['last_eruption_year']) - np.amin(vdf['last_eruption_year']))#**3.#*300 + 1\n",
    "vdf['normElevation'] = (vdf['elevation'] - np.amin(vdf['elevation']))/(np.amax(vdf['elevation']) - np.amin(vdf['elevation']))#**3.#*300 + 1"
   ]
  },
  {
   "cell_type": "code",
   "execution_count": null,
   "id": "4dc5df91",
   "metadata": {},
   "outputs": [],
   "source": [
    "f, ax = plt.subplots()\n",
    "_ = ax.hist(vdf['population_within_100_km'])"
   ]
  },
  {
   "cell_type": "markdown",
   "id": "d6ebeb75",
   "metadata": {},
   "source": [
    "# Create the map with ipyleaflet\n",
    "\n",
    "Note this will only accommodate ~150 points for each category"
   ]
  },
  {
   "cell_type": "code",
   "execution_count": null,
   "id": "bee7c6b7",
   "metadata": {},
   "outputs": [],
   "source": [
    "from ipyleaflet import Map, CircleMarker, LayersControl, LayerGroup, basemaps"
   ]
  },
  {
   "cell_type": "code",
   "execution_count": null,
   "id": "212ada1a",
   "metadata": {},
   "outputs": [],
   "source": [
    "def createMap(eSizeCol = 'normMag', vSizeCol = 'normPop'):\n",
    "    m = Map(basemap = basemaps.CartoDB.DarkMatter, center = (42, 0), zoom = 1.5)\n",
    "\n",
    "    # earthquakes\n",
    "    earthquakes = []\n",
    "    for i, row in edf.iterrows():\n",
    "\n",
    "        circle_marker = CircleMarker(\n",
    "            title = row['place'],\n",
    "            location = (row['latitude'], row['longitude']),\n",
    "            radius = int(np.round(row[eSizeCol])),\n",
    "            weight = 1,\n",
    "            color = \"#0d6aff\", \n",
    "            fill_color = \"#0d6aff\",\n",
    "        )\n",
    "        earthquakes.append(circle_marker)\n",
    "\n",
    "\n",
    "    # volcanoes\n",
    "    volcanoes = []\n",
    "    for i, row in vdf.iterrows():\n",
    "\n",
    "        circle_marker = CircleMarker(\n",
    "            title = row['volcano_name'],\n",
    "            location = (row['latitude'], row['longitude']),\n",
    "            radius = int(np.round(row[vSizeCol])),\n",
    "            weight = 1,\n",
    "            color = \"#ff1d0d\", \n",
    "            fill_color = \"#ff1d0d\",\n",
    "        )\n",
    "        volcanoes.append(circle_marker)\n",
    "\n",
    "    earthquake_layer_group = LayerGroup(layers = earthquakes, name = \"Earthquakes\")\n",
    "    volcano_layer_group = LayerGroup(layers = volcanoes, name = \"Volcanos\")\n",
    "    m.add_layer(earthquake_layer_group)\n",
    "    m.add_layer(volcano_layer_group)\n",
    "\n",
    "    control = LayersControl(position = 'topright')\n",
    "    m.add_control(control)\n",
    "    \n",
    "    return m"
   ]
  },
  {
   "cell_type": "code",
   "execution_count": null,
   "id": "bbe2a0ed",
   "metadata": {
    "scrolled": true
   },
   "outputs": [],
   "source": [
    "m = createMap(eSizeCol = 'normDepth', vSizeCol = 'normElevation')\n",
    "m"
   ]
  },
  {
   "cell_type": "markdown",
   "id": "98dc014b",
   "metadata": {},
   "source": [
    "## This looks great and works in Shiny, but (initially) not in shinyapps.io\n",
    "\n",
    "shinyapps.io does not have Python 3.10, and for some reason this doesn't work with 3.9.13 in shiny.  So... I will try with a cartopy map.  \n",
    "\n",
    "I created a separate conda environment with Python 3.9.13 to work on this: `shinytest3.9.13-wsl`.\n",
    "\n",
    "(Later, I discovered the issue with shiny widgets, see below, but other tools will allow me to plot more markers.)"
   ]
  },
  {
   "cell_type": "markdown",
   "id": "1f30e38d",
   "metadata": {},
   "source": [
    "# Create the map with cartopy\n",
    "\n",
    "This will allow for any number of points, but the map is static."
   ]
  },
  {
   "cell_type": "code",
   "execution_count": null,
   "id": "8b2ecbe0",
   "metadata": {},
   "outputs": [],
   "source": [
    "import cartopy.crs as ccrs\n",
    "import cartopy.feature as cfeature"
   ]
  },
  {
   "cell_type": "code",
   "execution_count": null,
   "id": "1e6c69fb",
   "metadata": {},
   "outputs": [],
   "source": [
    "def createMap(f, eSizeCol = 'normMag', vSizeCol = 'normPop'):\n",
    "    ax = f.add_subplot(1, 1, 1, projection=ccrs.PlateCarree())\n",
    "\n",
    "    ax.coastlines()\n",
    "    ax.add_feature(cfeature.LAND, color = 'black')\n",
    "    ax.add_feature(cfeature.OCEAN, facecolor = 'gray')\n",
    "    ax.add_feature(cfeature.LAKES, color = 'gray')\n",
    "\n",
    "    ax.scatter(edf['longitude'], edf['latitude'], marker = 'o',\n",
    "                edgecolor = [13/255., 106/255., 255/255., 1.], facecolor = [13/255., 106/255., 255/255., 0.2], \n",
    "                s = edf[eSizeCol],\n",
    "                transform = ccrs.Geodetic(), zorder = 3)\n",
    "\n",
    "    ax.scatter(vdf['longitude'], vdf['latitude'], marker = 'o',\n",
    "                edgecolor = [255/255., 29/255., 13/255., 1.], facecolor = [255/255., 29/255., 13/255., 0.2], \n",
    "                s = vdf[vSizeCol], \n",
    "                transform = ccrs.Geodetic(), zorder = 3)\n"
   ]
  },
  {
   "cell_type": "code",
   "execution_count": null,
   "id": "d52020c5",
   "metadata": {},
   "outputs": [],
   "source": [
    "f = plt.figure(figsize = (10,10))\n",
    "createMap(f)"
   ]
  },
  {
   "cell_type": "markdown",
   "id": "8c8655a0",
   "metadata": {},
   "source": [
    "## This looks very nice!  But I miss the interactivity (zoom, pan, etc.)"
   ]
  },
  {
   "cell_type": "markdown",
   "id": "a7457c0d",
   "metadata": {},
   "source": [
    "# Try with Plotly\n",
    "\n",
    "Examples\n",
    "- https://plotly.com/python/mapbox-layers/\n",
    "- https://plotly.com/python/scattermapbox/\n",
    "\n",
    "This works great here, but... I get the same error in Shiny with python 3.9.13 as with ipyleaflet.  So this is an error with shinywidgets.\n",
    "\n",
    "Wait!! I found the issue : https://github.com/rstudio/py-shinywidgets/issues/79\n",
    "\n",
    "I need to downgrade the veresion of ipywidgets, and that fixes this issue!\n",
    "\n",
    "```\n",
    "conda install ipywidgets==7.7.3\n",
    "```"
   ]
  },
  {
   "cell_type": "markdown",
   "id": "a72c6356",
   "metadata": {},
   "source": [
    "## Plotly express offers an easy \"one-liner\"\n",
    "\n",
    "But if I wanted to plot more than one data set (earthquakes and volcanoes), I would need to combine them into a single `pandas DataFrame`."
   ]
  },
  {
   "cell_type": "code",
   "execution_count": null,
   "id": "c3175bdf",
   "metadata": {},
   "outputs": [],
   "source": [
    "import plotly.express as px"
   ]
  },
  {
   "cell_type": "code",
   "execution_count": null,
   "id": "344ac50b",
   "metadata": {},
   "outputs": [],
   "source": [
    "# combine the dataframe so that I can use plotly express\n",
    "\n",
    "fig = px.scatter_mapbox(edf, lat = \"latitude\", lon = \"longitude\", size = \"normMag\", \n",
    "                        color_discrete_sequence = [\"#0d6aff\"],\n",
    "                        hover_name = \"place\", hover_data = [\"mag\", \"depth\"],\n",
    "                        height = 700, zoom = 1)\n",
    "fig.update_layout(mapbox_style = \"carto-darkmatter\")\n",
    "fig.update_layout(margin = {\"r\":0,\"t\":0,\"l\":0,\"b\":0})\n",
    "fig.show()"
   ]
  },
  {
   "cell_type": "markdown",
   "id": "133d987e",
   "metadata": {},
   "source": [
    "## Plotly graph objects allows for more flexilibity\n",
    "\n",
    "Plus it will more easily allow me to change the points later on (e.g., to change how they are scaled and show/hide them in Shiny)."
   ]
  },
  {
   "cell_type": "code",
   "execution_count": null,
   "id": "283cd86f",
   "metadata": {},
   "outputs": [],
   "source": [
    "import plotly.graph_objects as go"
   ]
  },
  {
   "cell_type": "code",
   "execution_count": null,
   "id": "948e8256",
   "metadata": {},
   "outputs": [],
   "source": [
    "fig = go.Figure()\n",
    "\n",
    "fig.add_trace(\n",
    "    go.Scattermapbox(\n",
    "        lat = edf['latitude'],\n",
    "        lon = edf['longitude'],\n",
    "        mode = 'markers',\n",
    "        marker = go.scattermapbox.Marker(\n",
    "            size = edf['normDepth'].to_numpy()*300,\n",
    "            sizemode = 'area',\n",
    "            color = '#0d6aff',\n",
    "            opacity = 0.7\n",
    "        ),\n",
    "        text = edf['place'] + '<br>Magnitude:' + edf['mag'].astype('str'),\n",
    "        hoverinfo = 'text'\n",
    "    )\n",
    ")\n",
    "\n",
    "fig.add_trace(\n",
    "    go.Scattermapbox(\n",
    "        lat = vdf['latitude'],\n",
    "        lon = vdf['longitude'],\n",
    "        mode = 'markers',\n",
    "        marker = go.scattermapbox.Marker(\n",
    "            size = vdf['normElevation'].to_numpy()**3.*300,\n",
    "            sizemode = 'area',\n",
    "            color = '#ff1d0d',\n",
    "            opacity = 0.7\n",
    "        ),\n",
    "        text = vdf['volcano_name'],\n",
    "        hoverinfo = 'text'\n",
    "    )\n",
    ")\n",
    "\n",
    "fig.update_layout(\n",
    "    autosize = True,\n",
    "    hovermode = 'closest',\n",
    "    height = 600,\n",
    "    width = 1000,\n",
    "    margin = {\"r\":0,\"t\":0,\"l\":0,\"b\":0},\n",
    "    mapbox = dict(\n",
    "        style = 'carto-darkmatter',\n",
    "        zoom = 0.9\n",
    "    ),\n",
    ")\n",
    "\n",
    "fig.show()"
   ]
  },
  {
   "cell_type": "markdown",
   "id": "2f10d0cc",
   "metadata": {},
   "source": [
    "# Looking good!"
   ]
  },
  {
   "cell_type": "code",
   "execution_count": null,
   "id": "a53d5d05",
   "metadata": {},
   "outputs": [],
   "source": []
  }
 ],
 "metadata": {
  "kernelspec": {
   "display_name": "Python 3 (ipykernel)",
   "language": "python",
   "name": "python3"
  },
  "language_info": {
   "codemirror_mode": {
    "name": "ipython",
    "version": 3
   },
   "file_extension": ".py",
   "mimetype": "text/x-python",
   "name": "python",
   "nbconvert_exporter": "python",
   "pygments_lexer": "ipython3",
   "version": "3.10.9"
  }
 },
 "nbformat": 4,
 "nbformat_minor": 5
}
